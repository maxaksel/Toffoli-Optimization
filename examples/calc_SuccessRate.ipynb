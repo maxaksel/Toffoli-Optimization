{
 "cells": [
  {
   "cell_type": "code",
   "execution_count": 1,
   "id": "a33576c7",
   "metadata": {},
   "outputs": [
    {
     "name": "stderr",
     "output_type": "stream",
     "text": [
      "/Users/revilooliver/Documents/quantum_computing/anaconda/anaconda3/envs/superstaq/lib/python3.7/site-packages/qiskit/aqua/__init__.py:86: DeprecationWarning: The package qiskit.aqua is deprecated. It was moved/refactored to qiskit-terra For more information see <https://github.com/Qiskit/qiskit-aqua/blob/main/README.md#migration-guide>\n",
      "  warn_package('aqua', 'qiskit-terra')\n"
     ]
    }
   ],
   "source": [
    "import sys\n",
    "import numpy as np\n",
    "from qiskit import *\n",
    "sys.path.append('..')\n",
    "from trios_bench import *"
   ]
  },
  {
   "cell_type": "code",
   "execution_count": 2,
   "id": "d5cb70b6",
   "metadata": {},
   "outputs": [],
   "source": [
    "IBMQ.load_account()\n",
    "provider = IBMQ.providers()[1]\n",
    "backend = provider.get_backend('ibm_lagos')"
   ]
  },
  {
   "cell_type": "code",
   "execution_count": 3,
   "id": "163c9c4d",
   "metadata": {},
   "outputs": [
    {
     "data": {
      "text/plain": [
       "<qiskit.providers.models.backendproperties.BackendProperties at 0x7fcc8144cc90>"
      ]
     },
     "execution_count": 3,
     "metadata": {},
     "output_type": "execute_result"
    }
   ],
   "source": [
    "backend.properties()"
   ]
  },
  {
   "cell_type": "code",
   "execution_count": 5,
   "id": "105d317f",
   "metadata": {},
   "outputs": [],
   "source": [
    "circuit = generate_cnx_inplace(4)"
   ]
  },
  {
   "cell_type": "code",
   "execution_count": 8,
   "id": "b925ce16",
   "metadata": {},
   "outputs": [
    {
     "data": {
      "text/plain": [
       "OrderedDict([('cx', 58),\n",
       "             ('ccx', 54),\n",
       "             ('x', 32),\n",
       "             ('rz', 4),\n",
       "             ('h', 2),\n",
       "             ('tdg', 2),\n",
       "             ('t', 2)])"
      ]
     },
     "execution_count": 8,
     "metadata": {},
     "output_type": "execute_result"
    }
   ],
   "source": [
    "circuit.count_ops()"
   ]
  },
  {
   "cell_type": "code",
   "execution_count": 13,
   "id": "d21e58cb",
   "metadata": {},
   "outputs": [],
   "source": [
    "trans_circ = transpile(circuit, basis_gates = ['ccx', 'cx', 'sx', 'x', 'rz'])"
   ]
  },
  {
   "cell_type": "code",
   "execution_count": 15,
   "id": "e1c7f7a0",
   "metadata": {},
   "outputs": [],
   "source": [
    "op_dict = trans_circ.count_ops()"
   ]
  },
  {
   "cell_type": "code",
   "execution_count": 19,
   "id": "644486c1",
   "metadata": {},
   "outputs": [
    {
     "data": {
      "text/plain": [
       "OrderedDict([('ccx', 54), ('cx', 46), ('x', 24), ('rz', 11), ('sx', 2)])"
      ]
     },
     "execution_count": 19,
     "metadata": {},
     "output_type": "execute_result"
    }
   ],
   "source": [
    "op_dict"
   ]
  },
  {
   "cell_type": "code",
   "execution_count": 50,
   "id": "65d4950e",
   "metadata": {},
   "outputs": [],
   "source": [
    "def success_rate(op_dict, total_time = 100, t1 = 70000, t2 = 72000, cx_error = 0.0147, sx_error = 0.0004, x_error = 0.008, ccx_error = 0.02):\n",
    "    sx_count = op_dict['sx']\n",
    "    x_count = op_dict['x']\n",
    "    cx_count = op_dict['cx']\n",
    "    ccx_count = op_dict['ccx']\n",
    "    pst = np.exp(- 10 * total_time / t1 - 10 * total_time / t2) * (1 - sx_error) ** sx_count \\\n",
    "    * (1 - x_error) ** x_count * (1 - cx_error) ** cx_count * (1 - ccx_error) ** ccx_count\n",
    "    print(\"Total Time:{}, T1:{}, T2:{}, success_rate:{}\".format(total_time, t1, t2, np.exp(-10 * total_time / t1 - 10 * total_time / t2)))\n",
    "    print(\"sx_count:{}, sx_error:{}, sx_success_rate:{}\".format(sx_count, sx_error, (1 - sx_error) ** sx_count))\n",
    "    print(\"x_count:{}, x_error:{}, x_success_rate:{}\".format(x_count, x_error, (1 - x_error) ** x_count))\n",
    "    print(\"cx_count:{}, cx_error:{}, cx_success_rate:{}\".format(cx_count, cx_error, (1 - cx_error) ** cx_count))\n",
    "    print(\"ccx_count:{}, ccx_error:{}, ccx_success_rate:{}\".format(ccx_count, ccx_error, (1 - ccx_error) ** ccx_count))\n",
    "    return pst"
   ]
  },
  {
   "cell_type": "code",
   "execution_count": 51,
   "id": "c93ca2a2",
   "metadata": {},
   "outputs": [
    {
     "name": "stdout",
     "output_type": "stream",
     "text": [
      "Total Time:100, T1:70000, T2:72000, success_rate:0.97221859952684\n",
      "sx_count:2, sx_error:0.0004, sx_success_rate:0.9992001600000001\n",
      "x_count:24, x_error:0.008, x_success_rate:0.8246698778947947\n",
      "cx_count:46, cx_error:0.0147, cx_success_rate:0.5059996405499187\n",
      "ccx_count:54, ccx_error:0.02, ccx_success_rate:0.3358985177497425\n"
     ]
    }
   ],
   "source": [
    "pst = success_rate(op_dict)"
   ]
  },
  {
   "cell_type": "code",
   "execution_count": 52,
   "id": "8878d4e1",
   "metadata": {},
   "outputs": [
    {
     "data": {
      "text/plain": [
       "0.1361616632030355"
      ]
     },
     "execution_count": 52,
     "metadata": {},
     "output_type": "execute_result"
    }
   ],
   "source": [
    "pst"
   ]
  },
  {
   "cell_type": "code",
   "execution_count": null,
   "id": "c2628ce0",
   "metadata": {},
   "outputs": [],
   "source": [
    "0.2 ** 54"
   ]
  }
 ],
 "metadata": {
  "kernelspec": {
   "display_name": "Python 3",
   "language": "python",
   "name": "python3"
  },
  "language_info": {
   "codemirror_mode": {
    "name": "ipython",
    "version": 3
   },
   "file_extension": ".py",
   "mimetype": "text/x-python",
   "name": "python",
   "nbconvert_exporter": "python",
   "pygments_lexer": "ipython3",
   "version": "3.7.12"
  }
 },
 "nbformat": 4,
 "nbformat_minor": 5
}
