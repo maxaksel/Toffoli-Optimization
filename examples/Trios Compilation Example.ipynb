{
 "cells": [
  {
   "cell_type": "markdown",
   "id": "b5308a05",
   "metadata": {},
   "source": [
    "# Trios Compilation Example"
   ]
  },
  {
   "cell_type": "markdown",
   "id": "d4575ccd",
   "metadata": {},
   "source": [
    "### Imports"
   ]
  },
  {
   "cell_type": "code",
   "execution_count": 37,
   "id": "57387304",
   "metadata": {},
   "outputs": [],
   "source": [
    "import sys\n",
    "import numpy as np\n",
    "from qiskit import *\n",
    "from qiskit.compiler import transpile\n",
    "from qiskit.test.mock import FakeMumbai\n",
    "\n",
    "sys.path.append('..')\n",
    "from trios import trios_toffoli_transpile, trios_transpile"
   ]
  },
  {
   "cell_type": "markdown",
   "id": "e416ea53",
   "metadata": {},
   "source": [
    "### Load Demo Backend"
   ]
  },
  {
   "cell_type": "code",
   "execution_count": 38,
   "id": "1afe1043",
   "metadata": {},
   "outputs": [
    {
     "name": "stderr",
     "output_type": "stream",
     "text": [
      "ibmqfactory.load_account:WARNING:2022-03-12 13:53:57,758: Credentials are already in use. The existing account in the session will be replaced.\n"
     ]
    }
   ],
   "source": [
    "IBMQ.load_account()\n",
    "provider = IBMQ.providers()[1]\n",
    "backend = FakeMumbai()"
   ]
  },
  {
   "cell_type": "markdown",
   "id": "21f40d2d",
   "metadata": {},
   "source": [
    "### Build Test Circuit"
   ]
  },
  {
   "cell_type": "code",
   "execution_count": 39,
   "id": "0fc3b554",
   "metadata": {},
   "outputs": [
    {
     "name": "stdout",
     "output_type": "stream",
     "text": [
      "     ┌───┐          ┌─┐                                                     \n",
      "q_0: ┤ H ├──■───────┤M├─────────────────────────────────────────────────────\n",
      "     └───┘┌─┴─┐     └╥┘                    ┌───┐        ┌─┐                 \n",
      "q_1: ─────┤ X ├──■───╫─────────────────────┤ X ├────────┤M├─────────────────\n",
      "          └───┘  │   ║ ┌───┐          ┌───┐└─┬─┘┌─┐     └╥┘                 \n",
      "q_2: ────────────■───╫─┤ X ├──■───────┤ X ├──┼──┤M├──────╫──────────────────\n",
      "               ┌─┴─┐ ║ └───┘  │  ┌───┐└─┬─┘  │  └╥┘      ║      ┌─┐         \n",
      "q_3: ──────────┤ X ├─╫────────■──┤ H ├──■────■───╫───■───╫──────┤M├─────────\n",
      "               └───┘ ║      ┌─┴─┐├───┤       │   ║   │   ║      └╥┘┌─┐      \n",
      "q_4: ────────────────╫──────┤ X ├┤ H ├───────■───╫───■───╫───■───╫─┤M├──────\n",
      "                     ║      └───┘└───┘           ║ ┌─┴─┐ ║   │   ║ └╥┘┌─┐   \n",
      "q_5: ────────────────╫───────────────────────────╫─┤ X ├─╫───■───╫──╫─┤M├───\n",
      "                     ║                           ║ └───┘ ║ ┌─┴─┐ ║  ║ └╥┘┌─┐\n",
      "q_6: ────────────────╫───────────────────────────╫───────╫─┤ X ├─╫──╫──╫─┤M├\n",
      "                     ║                           ║       ║ └───┘ ║  ║  ║ └╥┘\n",
      "c: 7/════════════════╩═══════════════════════════╩═══════╩═══════╩══╩══╩══╩═\n",
      "                     0                           2       1       3  4  5  6 \n"
     ]
    }
   ],
   "source": [
    "#test circuit\n",
    "test_circuit = QuantumCircuit(7, 7)\n",
    "test_circuit.h(0)\n",
    "test_circuit.cx(0, 1)\n",
    "test_circuit.ccx(1, 2, 3)\n",
    "test_circuit.x(2)\n",
    "test_circuit.ccx(2, 3, 4)\n",
    "test_circuit.h(3)\n",
    "test_circuit.cx(3, 2)\n",
    "test_circuit.h(4)\n",
    "test_circuit.ccx(4, 3, 1)\n",
    "test_circuit.ccx(3, 4, 5)\n",
    "test_circuit.ccx(4, 5, 6)\n",
    "\n",
    "test_circuit.measure(list(range(7)), list(range(7)))\n",
    "print(test_circuit)"
   ]
  },
  {
   "cell_type": "markdown",
   "id": "049817c5",
   "metadata": {},
   "source": [
    "### Run Trios Compiler"
   ]
  },
  {
   "cell_type": "code",
   "execution_count": 40,
   "id": "6f33c9b8",
   "metadata": {},
   "outputs": [
    {
     "name": "stdout",
     "output_type": "stream",
     "text": [
      "layout_method:  dense\n",
      "routing method:  basic\n",
      "ccx\n",
      "ccx\n",
      "ccx\n",
      "ccx\n",
      "ccx\n",
      "No solution found:  nonexistent solution\n",
      "Layout({\n",
      "5: Qubit(QuantumRegister(7, 'q'), 0),\n",
      "7: Qubit(QuantumRegister(7, 'q'), 1),\n",
      "3: Qubit(QuantumRegister(7, 'q'), 2),\n",
      "4: Qubit(QuantumRegister(7, 'q'), 3),\n",
      "2: Qubit(QuantumRegister(7, 'q'), 4),\n",
      "1: Qubit(QuantumRegister(7, 'q'), 5),\n",
      "0: Qubit(QuantumRegister(7, 'q'), 6)\n",
      "})\n",
      "The arguments for the toffoli node are:  Qubit(QuantumRegister(27, 'q'), 4) Qubit(QuantumRegister(27, 'q'), 2) Qubit(QuantumRegister(27, 'q'), 1)\n",
      "The distances between the toffoli qubits are:  2 between qubits 0 and 1\n",
      "The distances between the toffoli qubits are:  1 between qubits 1 and 2\n",
      "The distances between the toffoli qubits are:  1 between qubits 0 and 2\n",
      "The physical qubits for the toffoli are:  4 2 1\n",
      "The required toffoli will be decomposed using an 8 cnot decomposition - two in center\n",
      "The arguments for the toffoli node are:  Qubit(QuantumRegister(27, 'q'), 2) Qubit(QuantumRegister(27, 'q'), 1) Qubit(QuantumRegister(27, 'q'), 3)\n",
      "The distances between the toffoli qubits are:  1 between qubits 0 and 1\n",
      "The distances between the toffoli qubits are:  2 between qubits 1 and 2\n",
      "The distances between the toffoli qubits are:  1 between qubits 0 and 2\n",
      "The physical qubits for the toffoli are:  2 1 3\n",
      "The required toffoli will be decomposed using an 8 cnot decomposition - zero in center\n",
      "The arguments for the toffoli node are:  Qubit(QuantumRegister(27, 'q'), 2) Qubit(QuantumRegister(27, 'q'), 1) Qubit(QuantumRegister(27, 'q'), 4)\n",
      "The distances between the toffoli qubits are:  1 between qubits 0 and 1\n",
      "The distances between the toffoli qubits are:  1 between qubits 1 and 2\n",
      "The distances between the toffoli qubits are:  2 between qubits 0 and 2\n",
      "The physical qubits for the toffoli are:  2 1 4\n",
      "The required toffoli will be decomposed using an 8 cnot decomposition - one in center\n",
      "The arguments for the toffoli node are:  Qubit(QuantumRegister(27, 'q'), 1) Qubit(QuantumRegister(27, 'q'), 2) Qubit(QuantumRegister(27, 'q'), 3)\n",
      "The distances between the toffoli qubits are:  1 between qubits 0 and 1\n",
      "The distances between the toffoli qubits are:  1 between qubits 1 and 2\n",
      "The distances between the toffoli qubits are:  2 between qubits 0 and 2\n",
      "The physical qubits for the toffoli are:  1 2 3\n",
      "The required toffoli will be decomposed using an 8 cnot decomposition - one in center\n",
      "The arguments for the toffoli node are:  Qubit(QuantumRegister(27, 'q'), 2) Qubit(QuantumRegister(27, 'q'), 3) Qubit(QuantumRegister(27, 'q'), 1)\n",
      "The distances between the toffoli qubits are:  1 between qubits 0 and 1\n",
      "The distances between the toffoli qubits are:  2 between qubits 1 and 2\n",
      "The distances between the toffoli qubits are:  1 between qubits 0 and 2\n",
      "The physical qubits for the toffoli are:  2 3 1\n",
      "The required toffoli will be decomposed using an 8 cnot decomposition - zero in center\n"
     ]
    }
   ],
   "source": [
    "trios_compiled_circuit = trios_toffoli_transpile(circs=[test_circuit], backend=backend, basis_gates=['id', 'rz', 'sx', 'x', 'cx', 'ccx', 'ccx_linear', 'reset'], seed_transpiler=0)[0]"
   ]
  },
  {
   "cell_type": "markdown",
   "id": "de0cd197",
   "metadata": {},
   "source": [
    "### Compare Trios Results to IBM Results"
   ]
  },
  {
   "cell_type": "code",
   "execution_count": 41,
   "id": "c3f46879",
   "metadata": {},
   "outputs": [],
   "source": [
    "ibm_compiled_circuit = transpile(test_circuit, backend=backend, basis_gates=['id', 'rz', 'sx', 'x', 'cx', 'reset'], optimization_level=3, seed_transpiler=0)"
   ]
  },
  {
   "cell_type": "code",
   "execution_count": 42,
   "id": "d0e2bbb2",
   "metadata": {},
   "outputs": [
    {
     "name": "stdout",
     "output_type": "stream",
     "text": [
      "              Trios |  IBM\n",
      "==============================\n",
      "Circuit size:  69   |   164\n",
      "Circuit depth: 45   |   104\n"
     ]
    }
   ],
   "source": [
    "print(\"              Trios |  IBM\")\n",
    "print(\"==============================\")\n",
    "print(f\"Circuit size:  {trios_compiled_circuit.size()}   |   {ibm_compiled_circuit.size()}\")\n",
    "print(f\"Circuit depth: {trios_compiled_circuit.depth()}   |   {ibm_compiled_circuit.depth()}\")"
   ]
  },
  {
   "cell_type": "code",
   "execution_count": 43,
   "id": "98d15cd5",
   "metadata": {},
   "outputs": [
    {
     "data": {
      "text/plain": [
       "OrderedDict([('cx', 33),\n",
       "             ('rz', 15),\n",
       "             ('sx', 8),\n",
       "             ('measure', 7),\n",
       "             ('ccx_linear', 5),\n",
       "             ('x', 1),\n",
       "             ('barrier', 1)])"
      ]
     },
     "execution_count": 43,
     "metadata": {},
     "output_type": "execute_result"
    }
   ],
   "source": [
    "trios_compiled_circuit.count_ops()"
   ]
  },
  {
   "cell_type": "code",
   "execution_count": 44,
   "id": "db8f483a",
   "metadata": {},
   "outputs": [
    {
     "data": {
      "text/plain": [
       "OrderedDict([('cx', 75),\n",
       "             ('rz', 60),\n",
       "             ('sx', 20),\n",
       "             ('measure', 7),\n",
       "             ('x', 2),\n",
       "             ('barrier', 1)])"
      ]
     },
     "execution_count": 44,
     "metadata": {},
     "output_type": "execute_result"
    }
   ],
   "source": [
    "ibm_compiled_circuit.count_ops()"
   ]
  }
 ],
 "metadata": {
  "kernelspec": {
   "display_name": "micro",
   "language": "python",
   "name": "micro"
  },
  "language_info": {
   "codemirror_mode": {
    "name": "ipython",
    "version": 3
   },
   "file_extension": ".py",
   "mimetype": "text/x-python",
   "name": "python",
   "nbconvert_exporter": "python",
   "pygments_lexer": "ipython3",
   "version": "3.9.7"
  }
 },
 "nbformat": 4,
 "nbformat_minor": 5
}
