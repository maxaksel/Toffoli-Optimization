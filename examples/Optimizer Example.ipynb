{
 "cells": [
  {
   "cell_type": "markdown",
   "id": "38ff456c",
   "metadata": {},
   "source": [
    "# Optimizer Example"
   ]
  },
  {
   "cell_type": "markdown",
   "id": "d31a72ec",
   "metadata": {},
   "source": [
    "This notebook demonstrates how to use the PyQuOpt numerical optimization code to generate novel implementations of a specified unitary matrix. In this case, the Toffoli gate is explored."
   ]
  },
  {
   "cell_type": "markdown",
   "id": "1ea81fe8",
   "metadata": {},
   "source": [
    "### Imports"
   ]
  },
  {
   "cell_type": "code",
   "execution_count": 1,
   "id": "e74eac1a",
   "metadata": {},
   "outputs": [],
   "source": [
    "import sys\n",
    "import numpy as np\n",
    "\n",
    "sys.path.append('..')\n",
    "from pyquopt import *"
   ]
  },
  {
   "cell_type": "markdown",
   "id": "ffc21f98",
   "metadata": {},
   "source": [
    "### Optimization Hyperparameters"
   ]
  },
  {
   "cell_type": "code",
   "execution_count": 2,
   "id": "049f8d2d",
   "metadata": {},
   "outputs": [],
   "source": [
    "num_qubits = 3\n",
    "num_mq_instructions = 6 # want to explore circuits with six multi-qubit gates\n",
    "num_params = 3 * num_qubits * (num_mq_instructions + 1)  # formula explained in MICRO paper\n",
    "\n",
    "mq_dict = {\n",
    "    0: ThreeGates.CR01,\n",
    "    1: ThreeGates.CR02,\n",
    "    2: ThreeGates.CV01,\n",
    "    3: ThreeGates.CV02,\n",
    "    4: ThreeGates.MCR,\n",
    "}"
   ]
  },
  {
   "cell_type": "code",
   "execution_count": 3,
   "id": "5cfefddd",
   "metadata": {},
   "outputs": [],
   "source": [
    "alpha = 0.30  # penalty for non-standard angles\n",
    "gamma = 1e-8  # penalty for large angles\n",
    "non_fixed_params = np.ones(num_params)  # leave all parameters unfixed\n",
    "fixed_params_vals = np.zeros(num_params)  # unfixed parameters should have a \"fixed\" value of 0"
   ]
  },
  {
   "cell_type": "code",
   "execution_count": 14,
   "id": "74e7b9ee",
   "metadata": {},
   "outputs": [],
   "source": [
    "# mq_instructions = [0, 4, 4, 4, 0, 1]\n",
    "mq_instructions = [4, 4, 4, 2, 3, 2]"
   ]
  },
  {
   "cell_type": "markdown",
   "id": "f818e68a",
   "metadata": {},
   "source": [
    "### Instantiate and Run Optimizer"
   ]
  },
  {
   "cell_type": "code",
   "execution_count": 15,
   "id": "62df043a",
   "metadata": {},
   "outputs": [],
   "source": [
    "optimizer = Optimizer(num_qubits=num_qubits, mq_instructions=mq_instructions, mq_dict=mq_dict, target=ThreeGates.TOFFOLI,\n",
    "                     alpha=alpha, gamma=gamma, non_fixed_params=non_fixed_params, fixed_params_vals=fixed_params_vals)"
   ]
  },
  {
   "cell_type": "code",
   "execution_count": 16,
   "id": "2e66432e",
   "metadata": {},
   "outputs": [],
   "source": [
    "opt_params, opt_val = optimizer.find_parameters_least_squares(20)"
   ]
  },
  {
   "cell_type": "markdown",
   "id": "24d37b39",
   "metadata": {},
   "source": [
    "Note that there is also a function `optimizer.find_parameters_least_squares_par(num_guesses, num_procs)` that allows for process-based parallelism."
   ]
  },
  {
   "cell_type": "code",
   "execution_count": 17,
   "id": "9672c830",
   "metadata": {},
   "outputs": [
    {
     "data": {
      "text/plain": [
       "0.6207950861000036"
      ]
     },
     "execution_count": 17,
     "metadata": {},
     "output_type": "execute_result"
    }
   ],
   "source": [
    "opt_val"
   ]
  },
  {
   "cell_type": "code",
   "execution_count": 18,
   "id": "85e4a7f3",
   "metadata": {},
   "outputs": [
    {
     "name": "stdout",
     "output_type": "stream",
     "text": [
      "[180. 135.  30.  80.  80.  25.  30.  60. 300. 270. 330. 120. 315. 260.\n",
      " 300. 225. 260. 100. 315.  30. 260. 150. 265. 270. 180. 300. 120.  90.\n",
      " 350.  10.  90. 240. 185. 225. 315. 150.   0. 330. 300. 315.  60. 260.\n",
      "  45. 240. 240.   0. 225. 300.  85. 210. 150.  80. 315. 135.   0. 225.\n",
      " 240. 315. 350. 170.  60.  45.  60.]\n"
     ]
    }
   ],
   "source": [
    "opt_params_rounded = round_params(opt_params)\n",
    "print(opt_params_rounded)"
   ]
  },
  {
   "cell_type": "markdown",
   "id": "e7693f22",
   "metadata": {},
   "source": [
    "### Verify Implementation Accuracy"
   ]
  },
  {
   "cell_type": "code",
   "execution_count": 19,
   "id": "b5325062",
   "metadata": {},
   "outputs": [],
   "source": [
    "ub = UnitaryBuilder(num_qubits, mq_instructions, mq_dict)"
   ]
  },
  {
   "cell_type": "code",
   "execution_count": 20,
   "id": "3bab00ed",
   "metadata": {},
   "outputs": [],
   "source": [
    "implementation_matrix = ub.build_unitary(opt_params_rounded * np.pi / 180)"
   ]
  },
  {
   "cell_type": "code",
   "execution_count": 21,
   "id": "604a24cf",
   "metadata": {},
   "outputs": [
    {
     "name": "stdout",
     "output_type": "stream",
     "text": [
      "0.15694095494512406\n"
     ]
    }
   ],
   "source": [
    "print(get_unitary_infidelity(ThreeGates.TOFFOLI, implementation_matrix, 8))"
   ]
  },
  {
   "cell_type": "markdown",
   "id": "e61edb24",
   "metadata": {},
   "source": [
    "An infidelity less than 0.01 is acceptable."
   ]
  }
 ],
 "metadata": {
  "kernelspec": {
   "display_name": "micro",
   "language": "python",
   "name": "micro"
  },
  "language_info": {
   "codemirror_mode": {
    "name": "ipython",
    "version": 3
   },
   "file_extension": ".py",
   "mimetype": "text/x-python",
   "name": "python",
   "nbconvert_exporter": "python",
   "pygments_lexer": "ipython3",
   "version": "3.9.7"
  }
 },
 "nbformat": 4,
 "nbformat_minor": 5
}
