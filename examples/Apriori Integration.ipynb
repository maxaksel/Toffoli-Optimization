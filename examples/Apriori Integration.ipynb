{
 "cells": [
  {
   "cell_type": "code",
   "execution_count": 53,
   "id": "93187dfc",
   "metadata": {},
   "outputs": [],
   "source": [
    "import sys\n",
    "import numpy as np\n",
    "from qiskit import *\n",
    "\n",
    "sys.path.append('..')\n",
    "from pyquopt import *"
   ]
  },
  {
   "cell_type": "markdown",
   "id": "bad31bf7",
   "metadata": {},
   "source": [
    "### Define Circuit of Interest"
   ]
  },
  {
   "cell_type": "code",
   "execution_count": 54,
   "id": "effe3675",
   "metadata": {},
   "outputs": [
    {
     "data": {
      "text/html": [
       "<pre style=\"word-wrap: normal;white-space: pre;background: #fff0;line-height: 1.1;font-family: &quot;Courier New&quot;,Courier,monospace\">     ┌───┐     ┌───┐\n",
       "q_0: ┤ H ├──■──┤ X ├\n",
       "     └───┘┌─┴─┐└───┘\n",
       "q_1: ─────┤ X ├─────\n",
       "          └───┘     </pre>"
      ],
      "text/plain": [
       "     ┌───┐     ┌───┐\n",
       "q_0: ┤ H ├──■──┤ X ├\n",
       "     └───┘┌─┴─┐└───┘\n",
       "q_1: ─────┤ X ├─────\n",
       "          └───┘     "
      ]
     },
     "execution_count": 54,
     "metadata": {},
     "output_type": "execute_result"
    }
   ],
   "source": [
    "ghz_x = QuantumCircuit(2)\n",
    "ghz_x.h(0)\n",
    "ghz_x.cx(0, 1)\n",
    "ghz_x.x(0)\n",
    "ghz_x.draw()"
   ]
  },
  {
   "cell_type": "code",
   "execution_count": 55,
   "id": "75bce725",
   "metadata": {},
   "outputs": [],
   "source": [
    "ghz_x_transpiled = transpile(ghz_x, basis_gates=['sx', 'rz', 'cx'], optimization_level=3)"
   ]
  },
  {
   "cell_type": "code",
   "execution_count": 56,
   "id": "1711d9bf",
   "metadata": {},
   "outputs": [
    {
     "data": {
      "text/html": [
       "<pre style=\"word-wrap: normal;white-space: pre;background: #fff0;line-height: 1.1;font-family: &quot;Courier New&quot;,Courier,monospace\">global phase: π/4\n",
       "     ┌─────────┐┌────┐┌─────────┐     ┌────┐┌────┐\n",
       "q_0: ┤ Rz(π/2) ├┤ √X ├┤ Rz(π/2) ├──■──┤ √X ├┤ √X ├\n",
       "     └─────────┘└────┘└─────────┘┌─┴─┐└────┘└────┘\n",
       "q_1: ────────────────────────────┤ X ├────────────\n",
       "                                 └───┘            </pre>"
      ],
      "text/plain": [
       "global phase: π/4\n",
       "     ┌─────────┐┌────┐┌─────────┐     ┌────┐┌────┐\n",
       "q_0: ┤ Rz(π/2) ├┤ √X ├┤ Rz(π/2) ├──■──┤ √X ├┤ √X ├\n",
       "     └─────────┘└────┘└─────────┘┌─┴─┐└────┘└────┘\n",
       "q_1: ────────────────────────────┤ X ├────────────\n",
       "                                 └───┘            "
      ]
     },
     "execution_count": 56,
     "metadata": {},
     "output_type": "execute_result"
    }
   ],
   "source": [
    "ghz_x_transpiled.draw()"
   ]
  },
  {
   "cell_type": "markdown",
   "id": "2f52fe9f",
   "metadata": {},
   "source": [
    "### Set Optimization Hyperparameters"
   ]
  },
  {
   "cell_type": "code",
   "execution_count": 57,
   "id": "e3745cbd",
   "metadata": {},
   "outputs": [],
   "source": [
    "num_qubits = 2\n",
    "num_mq_instructions = 1  # want to explore circuits with one multi-qubit gate\n",
    "num_params = 3 * num_qubits * (num_mq_instructions + 1)  # formula explained in MICRO paper\n",
    "\n",
    "mq_dict = {\n",
    "    0: TwoGates.CR01,\n",
    "}"
   ]
  },
  {
   "cell_type": "code",
   "execution_count": 58,
   "id": "20ecc595",
   "metadata": {},
   "outputs": [],
   "source": [
    "alpha = 0.30  # penalty for non-standard angles\n",
    "gamma = 1e-5   # penalty for large angles\n",
    "non_fixed_params = np.array([1, 1, 1, 1, 1, 1, 0, 0, 0, 0, 0, 0]) # leave all parameters unfixed\n",
    "fixed_params_vals = np.array([0, 0, 0, 0, 0, 0, np.pi/2, 0, np.pi, np.pi, 0, np.pi])  # unfixed parameters should have a \"fixed\" value of 0"
   ]
  },
  {
   "cell_type": "code",
   "execution_count": 59,
   "id": "92f1fcaa",
   "metadata": {},
   "outputs": [],
   "source": [
    "mq_instructions = [0]"
   ]
  },
  {
   "cell_type": "markdown",
   "id": "2920b1bc",
   "metadata": {},
   "source": [
    "### Solve Optimization Problem"
   ]
  },
  {
   "cell_type": "code",
   "execution_count": 60,
   "id": "f00c94e2",
   "metadata": {},
   "outputs": [],
   "source": [
    "optimizer = Optimizer(num_qubits=num_qubits, mq_instructions=mq_instructions, mq_dict=mq_dict, target=TwoGates.GHZ,\n",
    "                     alpha=alpha, gamma=gamma, non_fixed_params=non_fixed_params, fixed_params_vals=fixed_params_vals)"
   ]
  },
  {
   "cell_type": "code",
   "execution_count": 61,
   "id": "ffe5674d",
   "metadata": {},
   "outputs": [],
   "source": [
    "opt_params, opt_val = optimizer.find_parameters_least_squares(20)"
   ]
  },
  {
   "cell_type": "code",
   "execution_count": 62,
   "id": "d75d1ce1",
   "metadata": {},
   "outputs": [
    {
     "name": "stdout",
     "output_type": "stream",
     "text": [
      "[180. 225. 135.  90. 270.  90.  90.   0. 180. 180.   0. 180.]\n"
     ]
    }
   ],
   "source": [
    "opt_params_rounded = round_params(opt_params)\n",
    "print(opt_params_rounded)"
   ]
  },
  {
   "cell_type": "markdown",
   "id": "02c7c478",
   "metadata": {},
   "source": [
    "### Verify Implementation Accuracy"
   ]
  },
  {
   "cell_type": "code",
   "execution_count": 63,
   "id": "506cc587",
   "metadata": {},
   "outputs": [],
   "source": [
    "ub = UnitaryBuilder(num_qubits, mq_instructions, mq_dict)"
   ]
  },
  {
   "cell_type": "code",
   "execution_count": 64,
   "id": "adc16015",
   "metadata": {},
   "outputs": [],
   "source": [
    "implementation_matrix = ub.build_unitary(opt_params_rounded * np.pi / 180)"
   ]
  },
  {
   "cell_type": "code",
   "execution_count": 65,
   "id": "c3457ded",
   "metadata": {},
   "outputs": [
    {
     "name": "stdout",
     "output_type": "stream",
     "text": [
      "2.220446049250313e-16\n"
     ]
    }
   ],
   "source": [
    "print(get_unitary_infidelity(TwoGates.GHZ, implementation_matrix, 4))"
   ]
  },
  {
   "cell_type": "code",
   "execution_count": 66,
   "id": "055bc7f1",
   "metadata": {},
   "outputs": [
    {
     "data": {
      "text/plain": [
       "array([[ 7.07106781e-01-9.81307787e-17j, -7.39139728e-17+1.28746949e-16j,\n",
       "         7.07106781e-01-1.84726384e-16j, -1.26816328e-17+6.75146087e-17j],\n",
       "       [ 1.26816328e-17+1.09120793e-16j,  7.07106781e-01-3.22109474e-16j,\n",
       "         7.39139728e-17+4.78884530e-17j,  7.07106781e-01-4.08705080e-16j],\n",
       "       [ 7.39139728e-17+8.94946372e-17j,  7.07106781e-01-2.23978696e-16j,\n",
       "        -1.26816328e-17-2.82622972e-17j, -7.07106781e-01+3.10574301e-16j],\n",
       "       [ 7.07106781e-01-2.74766180e-16j, -1.26816328e-17+6.98684814e-17j,\n",
       "        -7.07106781e-01+3.61361786e-16j,  7.39139728e-17-8.63614149e-18j]])"
      ]
     },
     "execution_count": 66,
     "metadata": {},
     "output_type": "execute_result"
    }
   ],
   "source": [
    "implementation_matrix"
   ]
  }
 ],
 "metadata": {
  "kernelspec": {
   "display_name": "micro",
   "language": "python",
   "name": "micro"
  },
  "language_info": {
   "codemirror_mode": {
    "name": "ipython",
    "version": 3
   },
   "file_extension": ".py",
   "mimetype": "text/x-python",
   "name": "python",
   "nbconvert_exporter": "python",
   "pygments_lexer": "ipython3",
   "version": "3.9.7"
  }
 },
 "nbformat": 4,
 "nbformat_minor": 5
}
